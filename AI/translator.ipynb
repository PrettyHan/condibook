{
 "cells": [
  {
   "cell_type": "code",
   "execution_count": 1,
   "id": "730699aa",
   "metadata": {},
   "outputs": [
    {
     "name": "stdout",
     "output_type": "stream",
     "text": [
      "Collecting googletrans==4.0.0-rc1Note: you may need to restart the kernel to use updated packages.\n"
     ]
    },
    {
     "name": "stderr",
     "output_type": "stream",
     "text": [
      "  WARNING: The script chardetect.exe is installed in 'c:\\Users\\Duggubi\\AppData\\Local\\Programs\\Python\\Python310\\Scripts' which is not on PATH.\n",
      "  Consider adding this directory to PATH or, if you prefer to suppress this warning, use --no-warn-script-location.\n",
      "WARNING: You are using pip version 22.0.4; however, version 22.1.2 is available.\n",
      "You should consider upgrading via the 'c:\\Users\\Duggubi\\AppData\\Local\\Programs\\Python\\Python310\\python.exe -m pip install --upgrade pip' command.\n"
     ]
    },
    {
     "name": "stdout",
     "output_type": "stream",
     "text": [
      "\n",
      "  Using cached googletrans-4.0.0rc1.tar.gz (20 kB)\n",
      "  Preparing metadata (setup.py): started\n",
      "  Preparing metadata (setup.py): finished with status 'done'\n",
      "Collecting httpx==0.13.3\n",
      "  Using cached httpx-0.13.3-py3-none-any.whl (55 kB)\n",
      "Collecting certifi\n",
      "  Downloading certifi-2022.6.15-py3-none-any.whl (160 kB)\n",
      "     -------------------------------------- 160.2/160.2 KB 4.7 MB/s eta 0:00:00\n",
      "Collecting httpcore==0.9.*\n",
      "  Using cached httpcore-0.9.1-py3-none-any.whl (42 kB)\n",
      "Collecting chardet==3.*\n",
      "  Using cached chardet-3.0.4-py2.py3-none-any.whl (133 kB)\n",
      "Collecting hstspreload\n",
      "  Using cached hstspreload-2021.12.1-py3-none-any.whl (1.3 MB)\n",
      "Collecting idna==2.*\n",
      "  Using cached idna-2.10-py2.py3-none-any.whl (58 kB)\n",
      "Collecting sniffio\n",
      "  Using cached sniffio-1.2.0-py3-none-any.whl (10 kB)\n",
      "Collecting rfc3986<2,>=1.3\n",
      "  Using cached rfc3986-1.5.0-py2.py3-none-any.whl (31 kB)\n",
      "Collecting h2==3.*\n",
      "  Using cached h2-3.2.0-py2.py3-none-any.whl (65 kB)\n",
      "Collecting h11<0.10,>=0.8\n",
      "  Using cached h11-0.9.0-py2.py3-none-any.whl (53 kB)\n",
      "Collecting hpack<4,>=3.0\n",
      "  Using cached hpack-3.0.0-py2.py3-none-any.whl (38 kB)\n",
      "Collecting hyperframe<6,>=5.2.0\n",
      "  Using cached hyperframe-5.2.0-py2.py3-none-any.whl (12 kB)\n",
      "Using legacy 'setup.py install' for googletrans, since package 'wheel' is not installed.\n",
      "Installing collected packages: rfc3986, hyperframe, hpack, h11, chardet, sniffio, idna, hstspreload, h2, certifi, httpcore, httpx, googletrans\n",
      "  Running setup.py install for googletrans: started\n",
      "  Running setup.py install for googletrans: finished with status 'done'\n",
      "Successfully installed certifi-2022.6.15 chardet-3.0.4 googletrans-4.0.0rc1 h11-0.9.0 h2-3.2.0 hpack-3.0.0 hstspreload-2021.12.1 httpcore-0.9.1 httpx-0.13.3 hyperframe-5.2.0 idna-2.10 rfc3986-1.5.0 sniffio-1.2.0\n"
     ]
    }
   ],
   "source": [
    "# %pip install googletrans==4.0.0-rc1"
   ]
  },
  {
   "cell_type": "code",
   "execution_count": 4,
   "id": "39b3a2b6",
   "metadata": {},
   "outputs": [
    {
     "ename": "TypeError",
     "evalue": "getenv() missing 1 required positional argument: 'key'",
     "output_type": "error",
     "traceback": [
      "\u001b[1;31m---------------------------------------------------------------------------\u001b[0m",
      "\u001b[1;31mTypeError\u001b[0m                                 Traceback (most recent call last)",
      "\u001b[1;32mc:\\Users\\Duggubi\\Desktop\\elice\\third_proj\\condibook\\AI\\translator.ipynb Cell 3'\u001b[0m in \u001b[0;36m<cell line: 4>\u001b[1;34m()\u001b[0m\n\u001b[0;32m      <a href='vscode-notebook-cell:/c%3A/Users/Duggubi/Desktop/elice/third_proj/condibook/AI/translator.ipynb#ch0000002?line=1'>2</a>\u001b[0m \u001b[39m# from konlpy.tag import Okt\u001b[39;00m\n\u001b[0;32m      <a href='vscode-notebook-cell:/c%3A/Users/Duggubi/Desktop/elice/third_proj/condibook/AI/translator.ipynb#ch0000002?line=2'>3</a>\u001b[0m \u001b[39mimport\u001b[39;00m \u001b[39mos\u001b[39;00m\n\u001b[1;32m----> <a href='vscode-notebook-cell:/c%3A/Users/Duggubi/Desktop/elice/third_proj/condibook/AI/translator.ipynb#ch0000002?line=3'>4</a>\u001b[0m os\u001b[39m.\u001b[39;49mgetenv()\n",
      "\u001b[1;31mTypeError\u001b[0m: getenv() missing 1 required positional argument: 'key'"
     ]
    }
   ],
   "source": [
    "from googletrans import Translator\n",
    "from konlpy.tag import Okt\n",
    "# import os"
   ]
  },
  {
   "cell_type": "code",
   "execution_count": 4,
   "id": "65314fac",
   "metadata": {},
   "outputs": [],
   "source": [
    "translator = Translator()\n",
    "okt = Okt()"
   ]
  },
  {
   "cell_type": "code",
   "execution_count": 11,
   "id": "23d0a3aa",
   "metadata": {},
   "outputs": [],
   "source": [
    "title = 'BackEnd'\n",
    "description = '미국은 english, 한국은 한글, 일본은 히라가나가타카나, 중국은 한자,번체,짬뽕..'"
   ]
  },
  {
   "cell_type": "code",
   "execution_count": 12,
   "id": "2cdf91aa",
   "metadata": {},
   "outputs": [
    {
     "data": {
      "text/plain": [
       "'en'"
      ]
     },
     "execution_count": 12,
     "metadata": {},
     "output_type": "execute_result"
    }
   ],
   "source": [
    "language = translator.detect(title).lang\n",
    "language"
   ]
  },
  {
   "cell_type": "code",
   "execution_count": 13,
   "id": "93701b48",
   "metadata": {},
   "outputs": [
    {
     "data": {
      "text/plain": [
       "'백엔드'"
      ]
     },
     "execution_count": 13,
     "metadata": {},
     "output_type": "execute_result"
    }
   ],
   "source": [
    "title = translator.translate(title, dest = 'ko').text\n",
    "title"
   ]
  },
  {
   "cell_type": "code",
   "execution_count": 51,
   "id": "20a79c3d",
   "metadata": {},
   "outputs": [
    {
     "data": {
      "text/plain": [
       "[('BankEnd', 'Alpha'), ('이', 'Noun'), ('진입', 'Noun'), ('!', 'Punctuation')]"
      ]
     },
     "execution_count": 51,
     "metadata": {},
     "output_type": "execute_result"
    }
   ],
   "source": [
    "xx = okt.pos(title)\n",
    "xx"
   ]
  },
  {
   "cell_type": "code",
   "execution_count": 131,
   "id": "4926cf0e",
   "metadata": {},
   "outputs": [],
   "source": [
    "zzz = 'backend out of byebye 현대 시대'  #'漢語 한글 out of xyzkoko'"
   ]
  },
  {
   "cell_type": "code",
   "execution_count": 102,
   "id": "d99b661e",
   "metadata": {},
   "outputs": [
    {
     "data": {
      "text/plain": [
       "'ko'"
      ]
     },
     "execution_count": 102,
     "metadata": {},
     "output_type": "execute_result"
    }
   ],
   "source": [
    "translator.detect(zzz).lang"
   ]
  },
  {
   "cell_type": "code",
   "execution_count": 109,
   "id": "3d1758ff",
   "metadata": {},
   "outputs": [
    {
     "name": "stdout",
     "output_type": "stream",
     "text": [
      "Byebye Back End of Modern Age\n"
     ]
    },
    {
     "data": {
      "text/plain": [
       "'현대의 시대의 뒤 끝'"
      ]
     },
     "execution_count": 109,
     "metadata": {},
     "output_type": "execute_result"
    }
   ],
   "source": [
    "zzz = translator.translate(zzz, src = 'ko',dest = 'en').text\n",
    "print(zzz)\n",
    "zzz = translator.translate(zzz, src = 'en',dest = 'ko').text\n",
    "zzz"
   ]
  },
  {
   "cell_type": "code",
   "execution_count": 118,
   "id": "e697f950",
   "metadata": {},
   "outputs": [
    {
     "data": {
      "text/plain": [
       "[('backend', 'Alpha'), ('byebye', 'Alpha'), ('현대', 'Noun'), ('시대', 'Noun')]"
      ]
     },
     "execution_count": 118,
     "metadata": {},
     "output_type": "execute_result"
    }
   ],
   "source": [
    "okt.pos(zzz)"
   ]
  },
  {
   "cell_type": "code",
   "execution_count": 133,
   "id": "ae65314b",
   "metadata": {},
   "outputs": [
    {
     "data": {
      "text/plain": [
       "['현대', '시대', '의', '백엔드']"
      ]
     },
     "execution_count": 133,
     "metadata": {},
     "output_type": "execute_result"
    }
   ],
   "source": [
    "nouns = []\n",
    "text1 = ''\n",
    "\n",
    "for i in okt.pos(zzz):\n",
    "    if i[1] == 'Noun':\n",
    "        nouns.append(i[0])\n",
    "    elif i[1] == 'Alpha':\n",
    "        text1 = text1 + i[0]+' '\n",
    "\n",
    "\n",
    "if len(text1) != 0:\n",
    "#     print('t1=',text1)\n",
    "    text1 = translator.translate(text1,dest = 'ko').text\n",
    "    \n",
    "\n",
    "for i in okt.pos(text1):\n",
    "    if i[1] == 'Noun':  # 고유명사를 번역해주는지 여부를 모르겠음.. 만약 번역을 할 경우 ~~ in ['Noun','Alpha']: 로 변경..\n",
    "        # (전처리과정에서 한국어, 영어를 제외하고 다른 언어를 다 지우기 때문에 Foreign은 노필요.)\n",
    "        nouns.append(i[0])\n",
    "\n",
    "nouns # 이상태에서 불용어를 제거하면 될듯? "
   ]
  },
  {
   "cell_type": "code",
   "execution_count": 85,
   "id": "6fbf3e39",
   "metadata": {},
   "outputs": [
    {
     "data": {
      "text/plain": [
       "'범위를 벗어난 색인'"
      ]
     },
     "execution_count": 85,
     "metadata": {},
     "output_type": "execute_result"
    }
   ],
   "source": [
    "translator.translate('index out of range',dest = 'ko').text"
   ]
  },
  {
   "cell_type": "code",
   "execution_count": 1,
   "id": "be91a698",
   "metadata": {},
   "outputs": [
    {
     "data": {
      "text/plain": [
       "{'abcd', 'qwer', '가나다라'}"
      ]
     },
     "execution_count": 1,
     "metadata": {},
     "output_type": "execute_result"
    }
   ],
   "source": [
    "set(['가나다라','abcd','qwer'])"
   ]
  },
  {
   "cell_type": "code",
   "execution_count": null,
   "id": "3cea53e4",
   "metadata": {},
   "outputs": [],
   "source": []
  }
 ],
 "metadata": {
  "kernelspec": {
   "display_name": "Python 3.10.0 64-bit",
   "language": "python",
   "name": "python3"
  },
  "language_info": {
   "codemirror_mode": {
    "name": "ipython",
    "version": 3
   },
   "file_extension": ".py",
   "mimetype": "text/x-python",
   "name": "python",
   "nbconvert_exporter": "python",
   "pygments_lexer": "ipython3",
   "version": "3.10.0"
  },
  "vscode": {
   "interpreter": {
    "hash": "072767b9cb27be4a2fa1d602913681a3bbe22f8c2fe03a0a53dffc5aa773ae00"
   }
  }
 },
 "nbformat": 4,
 "nbformat_minor": 5
}
