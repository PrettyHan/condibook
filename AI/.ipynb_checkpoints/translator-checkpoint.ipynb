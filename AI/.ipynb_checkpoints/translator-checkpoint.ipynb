{
 "cells": [
  {
   "cell_type": "code",
   "execution_count": 4,
   "id": "e721c047",
   "metadata": {},
   "outputs": [
    {
     "name": "stdout",
     "output_type": "stream",
     "text": [
      "Collecting googletrans==4.0.0-rc1\n",
      "  Downloading googletrans-4.0.0rc1.tar.gz (20 kB)\n",
      "Requirement already satisfied: httpx==0.13.3 in c:\\users\\duggubi\\anaconda3\\lib\\site-packages (from googletrans==4.0.0-rc1) (0.13.3)\n",
      "Requirement already satisfied: rfc3986<2,>=1.3 in c:\\users\\duggubi\\anaconda3\\lib\\site-packages (from httpx==0.13.3->googletrans==4.0.0-rc1) (1.5.0)\n",
      "Requirement already satisfied: idna==2.* in c:\\users\\duggubi\\anaconda3\\lib\\site-packages (from httpx==0.13.3->googletrans==4.0.0-rc1) (2.10)\n",
      "Requirement already satisfied: chardet==3.* in c:\\users\\duggubi\\anaconda3\\lib\\site-packages (from httpx==0.13.3->googletrans==4.0.0-rc1) (3.0.4)\n",
      "Requirement already satisfied: hstspreload in c:\\users\\duggubi\\anaconda3\\lib\\site-packages (from httpx==0.13.3->googletrans==4.0.0-rc1) (2021.12.1)\n",
      "Requirement already satisfied: sniffio in c:\\users\\duggubi\\anaconda3\\lib\\site-packages (from httpx==0.13.3->googletrans==4.0.0-rc1) (1.2.0)\n",
      "Requirement already satisfied: httpcore==0.9.* in c:\\users\\duggubi\\anaconda3\\lib\\site-packages (from httpx==0.13.3->googletrans==4.0.0-rc1) (0.9.1)\n",
      "Requirement already satisfied: certifi in c:\\users\\duggubi\\anaconda3\\lib\\site-packages (from httpx==0.13.3->googletrans==4.0.0-rc1) (2021.10.8)\n",
      "Requirement already satisfied: h11<0.10,>=0.8 in c:\\users\\duggubi\\anaconda3\\lib\\site-packages (from httpcore==0.9.*->httpx==0.13.3->googletrans==4.0.0-rc1) (0.9.0)\n",
      "Requirement already satisfied: h2==3.* in c:\\users\\duggubi\\anaconda3\\lib\\site-packages (from httpcore==0.9.*->httpx==0.13.3->googletrans==4.0.0-rc1) (3.2.0)\n",
      "Requirement already satisfied: hyperframe<6,>=5.2.0 in c:\\users\\duggubi\\anaconda3\\lib\\site-packages (from h2==3.*->httpcore==0.9.*->httpx==0.13.3->googletrans==4.0.0-rc1) (5.2.0)\n",
      "Requirement already satisfied: hpack<4,>=3.0 in c:\\users\\duggubi\\anaconda3\\lib\\site-packages (from h2==3.*->httpcore==0.9.*->httpx==0.13.3->googletrans==4.0.0-rc1) (3.0.0)\n",
      "Building wheels for collected packages: googletrans\n",
      "  Building wheel for googletrans (setup.py): started\n",
      "  Building wheel for googletrans (setup.py): finished with status 'done'\n",
      "  Created wheel for googletrans: filename=googletrans-4.0.0rc1-py3-none-any.whl size=17429 sha256=b160583d4507604b765053895c0e9c8983e5d239aa9a98c9f3abfd9c094ff622\n",
      "  Stored in directory: c:\\users\\duggubi\\appdata\\local\\pip\\cache\\wheels\\a9\\25\\af\\715361fa79594524c89c75d293def652045f3fdce6ca398712\n",
      "Successfully built googletrans\n",
      "Installing collected packages: googletrans\n",
      "  Attempting uninstall: googletrans\n",
      "    Found existing installation: googletrans 3.0.0\n",
      "    Uninstalling googletrans-3.0.0:\n",
      "      Successfully uninstalled googletrans-3.0.0\n",
      "Successfully installed googletrans-4.0.0rc1\n"
     ]
    }
   ],
   "source": [
    "!pip install googletrans==4.0.0-rc1"
   ]
  },
  {
   "cell_type": "code",
   "execution_count": 11,
   "id": "bdb44512",
   "metadata": {},
   "outputs": [],
   "source": [
    "from googletrans import Translator\n",
    "from konlpy.tag import Okt"
   ]
  },
  {
   "cell_type": "code",
   "execution_count": 12,
   "id": "0714bbc4",
   "metadata": {},
   "outputs": [],
   "source": [
    "translator = Translator()\n",
    "okt = Okt()"
   ]
  },
  {
   "cell_type": "code",
   "execution_count": 50,
   "id": "ebb0668e",
   "metadata": {},
   "outputs": [],
   "source": [
    "title = 'BankEnd이 진입!'\n",
    "description = '미국은 english, 한국은 한글, 일본은 히라가나가타카나, 중국은 한자,번체,짬뽕..'"
   ]
  },
  {
   "cell_type": "code",
   "execution_count": 40,
   "id": "62347372",
   "metadata": {},
   "outputs": [
    {
     "data": {
      "text/plain": [
       "'ko'"
      ]
     },
     "execution_count": 40,
     "metadata": {},
     "output_type": "execute_result"
    }
   ],
   "source": [
    "language = translator.detect(title).lang\n",
    "language"
   ]
  },
  {
   "cell_type": "code",
   "execution_count": 41,
   "id": "38db53af",
   "metadata": {},
   "outputs": [
    {
     "data": {
      "text/plain": [
       "'BankEnd로 진입!'"
      ]
     },
     "execution_count": 41,
     "metadata": {},
     "output_type": "execute_result"
    }
   ],
   "source": [
    "title = translator.translate(title, dest = 'ko').text\n",
    "title"
   ]
  },
  {
   "cell_type": "code",
   "execution_count": 51,
   "id": "4b4e9f73",
   "metadata": {},
   "outputs": [
    {
     "data": {
      "text/plain": [
       "[('BankEnd', 'Alpha'), ('이', 'Noun'), ('진입', 'Noun'), ('!', 'Punctuation')]"
      ]
     },
     "execution_count": 51,
     "metadata": {},
     "output_type": "execute_result"
    }
   ],
   "source": [
    "xx = okt.pos(title)\n",
    "xx"
   ]
  },
  {
   "cell_type": "code",
   "execution_count": 131,
   "id": "1c7a5723",
   "metadata": {},
   "outputs": [],
   "source": [
    "zzz = 'backend out of byebye 현대 시대'  #'漢語 한글 out of xyzkoko'"
   ]
  },
  {
   "cell_type": "code",
   "execution_count": 102,
   "id": "b177866b",
   "metadata": {},
   "outputs": [
    {
     "data": {
      "text/plain": [
       "'ko'"
      ]
     },
     "execution_count": 102,
     "metadata": {},
     "output_type": "execute_result"
    }
   ],
   "source": [
    "translator.detect(zzz).lang"
   ]
  },
  {
   "cell_type": "code",
   "execution_count": 109,
   "id": "a3888565",
   "metadata": {},
   "outputs": [
    {
     "name": "stdout",
     "output_type": "stream",
     "text": [
      "Byebye Back End of Modern Age\n"
     ]
    },
    {
     "data": {
      "text/plain": [
       "'현대의 시대의 뒤 끝'"
      ]
     },
     "execution_count": 109,
     "metadata": {},
     "output_type": "execute_result"
    }
   ],
   "source": [
    "zzz = translator.translate(zzz, src = 'ko',dest = 'en').text\n",
    "print(zzz)\n",
    "zzz = translator.translate(zzz, src = 'en',dest = 'ko').text\n",
    "zzz"
   ]
  },
  {
   "cell_type": "code",
   "execution_count": 118,
   "id": "465428df",
   "metadata": {},
   "outputs": [
    {
     "data": {
      "text/plain": [
       "[('backend', 'Alpha'), ('byebye', 'Alpha'), ('현대', 'Noun'), ('시대', 'Noun')]"
      ]
     },
     "execution_count": 118,
     "metadata": {},
     "output_type": "execute_result"
    }
   ],
   "source": [
    "okt.pos(zzz)"
   ]
  },
  {
   "cell_type": "code",
   "execution_count": 133,
   "id": "83279e78",
   "metadata": {},
   "outputs": [
    {
     "data": {
      "text/plain": [
       "['현대', '시대', '의', '백엔드']"
      ]
     },
     "execution_count": 133,
     "metadata": {},
     "output_type": "execute_result"
    }
   ],
   "source": [
    "nouns = []\n",
    "text1 = ''\n",
    "text2 = ''\n",
    "\n",
    "for i in okt.pos(zzz):\n",
    "    if i[1] == 'Noun':\n",
    "        nouns.append(i[0])\n",
    "    elif i[1] == 'Foreign':\n",
    "        text2 = text2 + i[0]+' '\n",
    "    elif i[1] == 'Alpha':\n",
    "        text1 = text1 + i[0]+' '\n",
    "\n",
    "\n",
    "if len(text1) != 0:\n",
    "#     print('t1=',text1)\n",
    "    text1 = translator.translate(text1,dest = 'ko').text\n",
    "#     print('t1=',text1)\n",
    "if len(text2) != 0:\n",
    "    text2 = translator.translate(text2,dest = 'ko').text\n",
    "    \n",
    "\n",
    "for i in okt.pos(text1+text2):\n",
    "    if i[1] == 'Noun':  # 고유명사를 번역해주는지 여부를 모르겠음.. 만약 번역을 할 경우 ~~ in ['Noun', 'Foreign', 'Alpha']: 로 변경\n",
    "        nouns.append(i[0])\n",
    "\n",
    "nouns # 이상태에서 불용어를 제거하면 될듯? "
   ]
  },
  {
   "cell_type": "code",
   "execution_count": 85,
   "id": "c29cb199",
   "metadata": {},
   "outputs": [
    {
     "data": {
      "text/plain": [
       "'범위를 벗어난 색인'"
      ]
     },
     "execution_count": 85,
     "metadata": {},
     "output_type": "execute_result"
    }
   ],
   "source": [
    "translator.translate('index out of range',dest = 'ko').text"
   ]
  },
  {
   "cell_type": "code",
   "execution_count": null,
   "id": "9e4c7d57",
   "metadata": {},
   "outputs": [],
   "source": []
  }
 ],
 "metadata": {
  "kernelspec": {
   "display_name": "Python 3 (ipykernel)",
   "language": "python",
   "name": "python3"
  },
  "language_info": {
   "codemirror_mode": {
    "name": "ipython",
    "version": 3
   },
   "file_extension": ".py",
   "mimetype": "text/x-python",
   "name": "python",
   "nbconvert_exporter": "python",
   "pygments_lexer": "ipython3",
   "version": "3.8.3"
  }
 },
 "nbformat": 4,
 "nbformat_minor": 5
}
