{
 "cells": [
  {
   "cell_type": "code",
   "execution_count": null,
   "metadata": {},
   "outputs": [],
   "source": [
    "# 사용 패키지 re(정규표현식), googletrans==4.0.0-rc1(언어감지 및 번역), konlpy(명사추출), gensim(word2vec) 사용!\n",
    "# %pip install googletrans==4.0.0-rc1\n",
    "# %pip install konlpy\n",
    "# %pip install gensim"
   ]
  }
 ],
 "metadata": {
  "language_info": {
   "name": "python"
  },
  "orig_nbformat": 4
 },
 "nbformat": 4,
 "nbformat_minor": 2
}
