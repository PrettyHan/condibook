{
 "cells": [
  {
   "cell_type": "code",
   "execution_count": 6,
   "metadata": {},
   "outputs": [
    {
     "name": "stdout",
     "output_type": "stream",
     "text": [
      "Collecting flask\n",
      "  Downloading Flask-2.1.2-py3-none-any.whl (95 kB)\n",
      "\u001b[K     |████████████████████████████████| 95 kB 1.9 MB/s eta 0:00:01\n",
      "\u001b[?25hCollecting itsdangerous>=2.0\n",
      "  Downloading itsdangerous-2.1.2-py3-none-any.whl (15 kB)\n",
      "Collecting importlib-metadata>=3.6.0; python_version < \"3.10\"\n",
      "  Downloading importlib_metadata-4.11.4-py3-none-any.whl (18 kB)\n",
      "Collecting click>=8.0\n",
      "  Downloading click-8.1.3-py3-none-any.whl (96 kB)\n",
      "\u001b[K     |████████████████████████████████| 96 kB 5.9 MB/s eta 0:00:011\n",
      "\u001b[?25hCollecting Jinja2>=3.0\n",
      "  Downloading Jinja2-3.1.2-py3-none-any.whl (133 kB)\n",
      "\u001b[K     |████████████████████████████████| 133 kB 14.0 MB/s eta 0:00:01\n",
      "\u001b[?25hCollecting Werkzeug>=2.0\n",
      "  Downloading Werkzeug-2.1.2-py3-none-any.whl (224 kB)\n",
      "\u001b[K     |████████████████████████████████| 224 kB 21.8 MB/s eta 0:00:01\n",
      "\u001b[?25hRequirement already satisfied: zipp>=0.5 in /usr/lib/python3/dist-packages (from importlib-metadata>=3.6.0; python_version < \"3.10\"->flask) (1.0.0)\n",
      "Collecting MarkupSafe>=2.0\n",
      "  Downloading MarkupSafe-2.1.1-cp38-cp38-manylinux_2_17_x86_64.manylinux2014_x86_64.whl (25 kB)\n",
      "Installing collected packages: itsdangerous, importlib-metadata, click, MarkupSafe, Jinja2, Werkzeug, flask\n",
      "\u001b[33m  WARNING: The script flask is installed in '/home/elice/.local/bin' which is not on PATH.\n",
      "  Consider adding this directory to PATH or, if you prefer to suppress this warning, use --no-warn-script-location.\u001b[0m\n",
      "Successfully installed Jinja2-3.1.2 MarkupSafe-2.1.1 Werkzeug-2.1.2 click-8.1.3 flask-2.1.2 importlib-metadata-4.11.4 itsdangerous-2.1.2\n",
      "Note: you may need to restart the kernel to use updated packages.\n"
     ]
    }
   ],
   "source": [
    "'''\n",
    "AI를 위한 install용 패키지들.. 기술스택용입니다!\n",
    "여기에서 쓰이지 않고 분석에만 쓰인 추가 패키지.\n",
    "Beautifulsoup\n",
    "'''\n",
    "\n",
    "# %pip install install-jdk  # 자바 설치 \n",
    "# %pip install jpype1==0.7.0   \n",
    "\n",
    "# # java : https://calyfactory.github.io/konlpy-%EC%97%B0%EB%8F%99%ED%95%98%EA%B8%B0/ 참고함.\n",
    "\n",
    "# # 사용 패키지 re(정규표현식), googletrans==4.0.0-rc1(언어감지 및 번역), konlpy(명사추출), gensim(word2vec) 사용!\n",
    "# %pip install googletrans==4.0.0-rc1 # --> install 후 한번 껐다가 켜야 작동됨.. 이는 대부분의 모듈에 해당함.\n",
    "# %pip install konlpy\n",
    "# %pip install gensim==3.8.3\n",
    "# %pip install nltk\n",
    "\n",
    "# import os\n",
    "# os.environ['JAVA_HOME'] = r'/usr/bin/jar'\n",
    "\n",
    "# %pip install flask"
   ]
  },
  {
   "cell_type": "code",
   "execution_count": 5,
   "metadata": {},
   "outputs": [
    {
     "data": {
      "text/plain": [
       "['콘디북', '모두', '취업']"
      ]
     },
     "execution_count": 5,
     "metadata": {},
     "output_type": "execute_result"
    }
   ],
   "source": [
    "# 확인용 돌려보기.. 다른 것은 잘 되고 konlpy만 확인하면 됨.\n",
    "# from konlpy.tag import Okt\n",
    "# okt = Okt()\n",
    "# okt.nouns('콘디북이 잘 되고, 모두들 취업도 잘 되었으면 좋겠다!')"
   ]
  },
  {
   "cell_type": "code",
   "execution_count": null,
   "metadata": {},
   "outputs": [],
   "source": []
  }
 ],
 "metadata": {
  "kernelspec": {
   "display_name": "Python 3.8.10 64-bit",
   "language": "python",
   "name": "python3"
  },
  "language_info": {
   "codemirror_mode": {
    "name": "ipython",
    "version": 3
   },
   "file_extension": ".py",
   "mimetype": "text/x-python",
   "name": "python",
   "nbconvert_exporter": "python",
   "pygments_lexer": "ipython3",
   "version": "3.8.10"
  },
  "orig_nbformat": 4,
  "vscode": {
   "interpreter": {
    "hash": "916dbcbb3f70747c44a77c7bcd40155683ae19c65e1c03b4aa3499c5328201f1"
   }
  }
 },
 "nbformat": 4,
 "nbformat_minor": 2
}
